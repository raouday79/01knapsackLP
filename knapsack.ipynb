{
 "cells": [
  {
   "cell_type": "code",
   "execution_count": 26,
   "id": "625125d9",
   "metadata": {},
   "outputs": [],
   "source": [
    "val = [60, 100, 120]\n",
    "wt = [10, 20, 30]\n",
    "#val = [1, 120, 60,80]\n",
    "#wt = [20, 30, 10,40]\n",
    "W = 50\n",
    "n = len(val)"
   ]
  },
  {
   "cell_type": "code",
   "execution_count": 6,
   "id": "8d1874be",
   "metadata": {},
   "outputs": [],
   "source": [
    "def knapSack(W, wt, val, n):\n",
    " \n",
    "    # Base Case\n",
    "    if n == 0 or W == 0:\n",
    "        return 0\n",
    " \n",
    "    # If weight of the nth item is\n",
    "    # more than Knapsack of capacity W,\n",
    "    # then this item cannot be included\n",
    "    # in the optimal solution\n",
    "    if (wt[n-1] > W):\n",
    "        return knapSack(W, wt, val, n-1)\n",
    " \n",
    "    # return the maximum of two cases:\n",
    "    # (1) nth item included\n",
    "    # (2) not included\n",
    "    else:\n",
    "        return max(\n",
    "            val[n-1] + knapSack(\n",
    "                W-wt[n-1], wt, val, n-1),\n",
    "            knapSack(W, wt, val, n-1))"
   ]
  },
  {
   "cell_type": "code",
   "execution_count": 7,
   "id": "d77f4e2e",
   "metadata": {},
   "outputs": [
    {
     "name": "stdout",
     "output_type": "stream",
     "text": [
      "180\n"
     ]
    }
   ],
   "source": [
    "print(knapSack(W, wt, val, n))"
   ]
  },
  {
   "cell_type": "code",
   "execution_count": null,
   "id": "3ac1e161",
   "metadata": {},
   "outputs": [],
   "source": []
  },
  {
   "cell_type": "code",
   "execution_count": null,
   "id": "01ec81da",
   "metadata": {},
   "outputs": [],
   "source": []
  },
  {
   "cell_type": "code",
   "execution_count": 6,
   "id": "20561afb",
   "metadata": {},
   "outputs": [],
   "source": [
    "## Google OR | Linear Programming"
   ]
  },
  {
   "cell_type": "code",
   "execution_count": 37,
   "id": "6dcd6878",
   "metadata": {},
   "outputs": [],
   "source": []
  },
  {
   "cell_type": "code",
   "execution_count": 38,
   "id": "92ed0db1",
   "metadata": {},
   "outputs": [],
   "source": []
  },
  {
   "cell_type": "code",
   "execution_count": 14,
   "id": "923eb754",
   "metadata": {},
   "outputs": [],
   "source": [
    "from ortools.sat.python import cp_model\n",
    "model = cp_model.CpModel()\n",
    "\n",
    "\n",
    "d_var = []\n",
    "objective_value = []\n",
    "bool_vars  = []\n",
    "vars = []\n",
    "weights = []\n",
    "for i in range(n):\n",
    "    x = model.NewIntVar(0,val[i],'var')\n",
    "    x_bool = model.NewBoolVar('var_bool')\n",
    "    \n",
    "    model.Add(x==val[i]).OnlyEnforceIf(x_bool)\n",
    "    model.Add(x==0).OnlyEnforceIf(x_bool.Not())\n",
    "    \n",
    "    \n",
    "    model.Add(x==val[i]).OnlyEnforceIf(x_bool)\n",
    "    objective_value.append(x_bool*val[i])\n",
    "    vars.append(x)\n",
    "    weights.append(wt[i])\n",
    "    \n",
    "    bool_vars.append(x_bool)\n",
    "    d_var.append(x_bool*wt[i])\n"
   ]
  },
  {
   "cell_type": "code",
   "execution_count": 15,
   "id": "43f08dac",
   "metadata": {},
   "outputs": [],
   "source": [
    "model.Add(sum(d_var)<=W)\n",
    "model.Maximize(sum(objective_value))"
   ]
  },
  {
   "cell_type": "code",
   "execution_count": 16,
   "id": "fbc258e7",
   "metadata": {},
   "outputs": [
    {
     "name": "stdout",
     "output_type": "stream",
     "text": [
      "Maximum of objective function: 180.0\n",
      "\n",
      "0 0 20\n",
      "120 1 30\n",
      "60 1 10\n",
      "0 0 40\n"
     ]
    }
   ],
   "source": [
    "solver = cp_model.CpSolver()\n",
    "status = solver.Solve(model)\n",
    "if status == cp_model.OPTIMAL or status == cp_model.FEASIBLE:\n",
    "    print(f'Maximum of objective function: {solver.ObjectiveValue()}\\n')\n",
    "    for i in range(n):\n",
    "        print(solver.Value(vars[i]), solver.Value(bool_vars[i]), weights[i])"
   ]
  },
  {
   "cell_type": "code",
   "execution_count": null,
   "id": "0aff0763",
   "metadata": {},
   "outputs": [],
   "source": []
  },
  {
   "cell_type": "code",
   "execution_count": null,
   "id": "f67c0c4b",
   "metadata": {},
   "outputs": [],
   "source": []
  },
  {
   "cell_type": "code",
   "execution_count": 28,
   "id": "374710db",
   "metadata": {},
   "outputs": [],
   "source": [
    "from ortools.linear_solver import pywraplp\n",
    "solver =  pywraplp.Solver.CreateSolver('SCIP')"
   ]
  },
  {
   "cell_type": "code",
   "execution_count": 29,
   "id": "799fb687",
   "metadata": {},
   "outputs": [
    {
     "name": "stdout",
     "output_type": "stream",
     "text": [
      "Objective Value  220.0\n"
     ]
    }
   ],
   "source": [
    "d_var = []\n",
    "objective_value = []\n",
    "weights = []\n",
    "\n",
    "for i in range(n):\n",
    "    x = solver.IntVar(0,1,'var')\n",
    "    \n",
    "    objective_value.append(x*val[i])\n",
    "    weights.append(x*wt[i])\n",
    "solver.Add(solver.Sum(weights)<=W)\n",
    "solver.Maximize(solver.Sum(objective_value))\n",
    "\n",
    "status = solver.Solve()\n",
    "if status == pywraplp.Solver.OPTIMAL:\n",
    "    print('Objective Value ',solver.Objective().Value())"
   ]
  },
  {
   "cell_type": "code",
   "execution_count": null,
   "id": "bde6e0e2",
   "metadata": {},
   "outputs": [],
   "source": []
  }
 ],
 "metadata": {
  "kernelspec": {
   "display_name": "Python 3",
   "language": "python",
   "name": "python3"
  },
  "language_info": {
   "codemirror_mode": {
    "name": "ipython",
    "version": 3
   },
   "file_extension": ".py",
   "mimetype": "text/x-python",
   "name": "python",
   "nbconvert_exporter": "python",
   "pygments_lexer": "ipython3",
   "version": "3.7.11"
  }
 },
 "nbformat": 4,
 "nbformat_minor": 5
}
